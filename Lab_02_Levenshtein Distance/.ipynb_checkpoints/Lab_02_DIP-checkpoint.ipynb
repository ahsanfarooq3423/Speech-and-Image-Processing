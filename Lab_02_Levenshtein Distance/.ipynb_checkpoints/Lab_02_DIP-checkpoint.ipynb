{
 "cells": [
  {
   "cell_type": "code",
   "execution_count": 12,
   "metadata": {},
   "outputs": [],
   "source": [
    "import nltk\n",
    "\n",
    "import re\n",
    "import io\n",
    "import numpy as np\n"
   ]
  },
  {
   "cell_type": "code",
   "execution_count": 13,
   "metadata": {},
   "outputs": [],
   "source": [
    "reference = 'this is some text and we would like to see if it has been identified correctly by speech recognition system'"
   ]
  },
  {
   "cell_type": "code",
   "execution_count": 14,
   "metadata": {},
   "outputs": [],
   "source": [
    "hypothesis = 'this is a text and we would like to check what has been identified by the speech recognition'"
   ]
  },
  {
   "cell_type": "code",
   "execution_count": 15,
   "metadata": {},
   "outputs": [
    {
     "data": {
      "text/plain": [
       "18"
      ]
     },
     "execution_count": 15,
     "metadata": {},
     "output_type": "execute_result"
    }
   ],
   "source": [
    "len(reference.split())\n",
    "len(hypothesis.split())"
   ]
  },
  {
   "cell_type": "code",
   "execution_count": 18,
   "metadata": {},
   "outputs": [],
   "source": [
    "def levenshtein_ratio_and_distance(s, t, ratio_calc = False):\n",
    "    s = reference.split()\n",
    "    t = hypothesis.split()\n",
    "    # Initialize matrix of zeros\n",
    "    rows = len(s) + 1\n",
    "    cols = len(t) + 1\n",
    "    distance = np.zeros((rows,cols),dtype = int)\n",
    "    \n",
    "    no_of_insertions = 0\n",
    "    #Number of deletions\n",
    "    for word in s:\n",
    "        if word not in t:\n",
    "            no_of_insertions += 1\n",
    "    \n",
    "    no_of_deletions = 0\n",
    "    for word in t:\n",
    "        if word not in s:\n",
    "            no_of_deletions +=1\n",
    "    \n",
    "    \n",
    "    # Populate matrix of zeros with the indeces of each character of both strings\n",
    "    for i in range(1, rows):\n",
    "        for k in range(1,cols):\n",
    "            distance[i][0] = i\n",
    "            distance[0][k] = k\n",
    "            \n",
    "\n",
    "    # Iterate over the matrix to compute the cost of deletions,insertions and/or substitutions    \n",
    "    for col in range(1, cols):\n",
    "        for row in range(1, rows):\n",
    "            if s[row-1] == t[col-1]:\n",
    "                cost = 0 # If the characters are the same in the two strings in a given position [i,j] then the cost is 0\n",
    "            else:\n",
    "                # In order to align the results with those of the Python Levenshtein package, if we choose to calculate the ratio\n",
    "                # the cost of a substitution is 2. If we calculate just distance, then the cost of a substitution is 1.\n",
    "                if ratio_calc == True:\n",
    "                    cost = 2\n",
    "                else:\n",
    "                    cost = 1\n",
    "            distance[row][col] = min(distance[row-1][col] + 1,      # Cost of deletions\n",
    "                                 distance[row][col-1] + 1,          # Cost of insertions\n",
    "                                 distance[row-1][col-1] + cost)\n",
    "\n",
    "\n",
    "    \n",
    "    return \"The strings are {} edits away\".format(distance[row][col])"
   ]
  },
  {
   "cell_type": "code",
   "execution_count": 20,
   "metadata": {},
   "outputs": [
    {
     "name": "stdout",
     "output_type": "stream",
     "text": [
      "[[ 0  1  2  3  4  5  6  7  8  9 10 11 12 13 14 15 16 17 18]\n",
      " [ 1  0  1  2  3  4  5  6  7  8  9 10 11 12 13 14 15 16 17]\n",
      " [ 2  1  0  1  2  3  4  5  6  7  8  9 10 11 12 13 14 15 16]\n",
      " [ 3  2  1  1  2  3  4  5  6  7  8  9 10 11 12 13 14 15 16]\n",
      " [ 4  3  2  2  1  2  3  4  5  6  7  8  9 10 11 12 13 14 15]\n",
      " [ 5  4  3  3  2  1  2  3  4  5  6  7  8  9 10 11 12 13 14]\n",
      " [ 6  5  4  4  3  2  1  2  3  4  5  6  7  8  9 10 11 12 13]\n",
      " [ 7  6  5  5  4  3  2  1  2  3  4  5  6  7  8  9 10 11 12]\n",
      " [ 8  7  6  6  5  4  3  2  1  2  3  4  5  6  7  8  9 10 11]\n",
      " [ 9  8  7  7  6  5  4  3  2  1  2  3  4  5  6  7  8  9 10]\n",
      " [10  9  8  8  7  6  5  4  3  2  2  3  4  5  6  7  8  9 10]\n",
      " [11 10  9  9  8  7  6  5  4  3  3  3  4  5  6  7  8  9 10]\n",
      " [12 11 10 10  9  8  7  6  5  4  4  4  4  5  6  7  8  9 10]\n",
      " [13 12 11 11 10  9  8  7  6  5  5  5  4  5  6  7  8  9 10]\n",
      " [14 13 12 12 11 10  9  8  7  6  6  6  5  4  5  6  7  8  9]\n",
      " [15 14 13 13 12 11 10  9  8  7  7  7  6  5  4  5  6  7  8]\n",
      " [16 15 14 14 13 12 11 10  9  8  8  8  7  6  5  5  6  7  8]\n",
      " [17 16 15 15 14 13 12 11 10  9  9  9  8  7  6  5  6  7  8]\n",
      " [18 17 16 16 15 14 13 12 11 10 10 10  9  8  7  6  6  6  7]\n",
      " [19 18 17 17 16 15 14 13 12 11 11 11 10  9  8  7  7  7  6]\n",
      " [20 19 18 18 17 16 15 14 13 12 12 12 11 10  9  8  8  8  7]]\n"
     ]
    },
    {
     "data": {
      "text/plain": [
       "'The strings are 7 edits away'"
      ]
     },
     "execution_count": 20,
     "metadata": {},
     "output_type": "execute_result"
    }
   ],
   "source": [
    "levenshtein_ratio_and_distance(reference,hypothesis)"
   ]
  },
  {
   "cell_type": "code",
   "execution_count": 108,
   "metadata": {},
   "outputs": [],
   "source": [
    "common_words = ['the','of','and','a','be','this','there','an','been','some']\n",
    "def levenshtein_ratio_and_distance(s, t, ratio_calc = False):\n",
    "    s = reference.split()\n",
    "    t = hypothesis.split()\n",
    "    # Initialize matrix of zeros\n",
    "    rows = len(s) + 1\n",
    "    cols = len(t) + 1\n",
    "    distance = np.zeros((rows,cols),dtype = int)\n",
    "    \n",
    "    no_of_insertions = 0\n",
    "    #Number of deletions\n",
    "    for word in s:\n",
    "        if word in common_words:\n",
    "            continue\n",
    "        elif word not in t:\n",
    "            no_of_insertions += 1\n",
    "    \n",
    "    no_of_deletions = 0\n",
    "    for word in t:\n",
    "        if word in common_words:\n",
    "            continue\n",
    "        elif word not in s:\n",
    "            no_of_deletions +=1\n",
    "    \n",
    "    \n",
    "    # Populate matrix of zeros with the indeces of each character of both strings\n",
    "    for i in range(1, rows):\n",
    "        for k in range(1,cols):\n",
    "            distance[i][0] = i\n",
    "            distance[0][k] = k\n",
    "            \n",
    "\n",
    "    # Iterate over the matrix to compute the cost of deletions,insertions and/or substitutions    \n",
    "    for col in range(1, cols):\n",
    "        for row in range(1, rows):\n",
    "            if s[row-1] == t[col-1] or s[row-1] in common_words or t[col - 1] in common_words:\n",
    "                cost = 0 # If the characters are the same in the two strings in a given position [i,j] then the cost is 0\n",
    "            else:\n",
    "                # In order to align the results with those of the Python Levenshtein package, if we choose to calculate the ratio\n",
    "                # the cost of a substitution is 2. If we calculate just distance, then the cost of a substitution is 1.\n",
    "                if ratio_calc == True:\n",
    "                    cost = 2\n",
    "                else:\n",
    "                    cost = 1\n",
    "            distance[row][col] = min(distance[row-1][col] + 1,      # Cost of deletions\n",
    "                                 distance[row][col-1] + 1,          # Cost of insertions\n",
    "                                 distance[row-1][col-1] + cost)     # Cost of substitutions\n",
    "\n",
    "    else:\n",
    "        # print(distance) # Uncomment if you want to see the matrix showing how the algorithm computes the cost of deletions,\n",
    "        # insertions and/or substitutions\n",
    "        # This is the minimum number of edits needed to convert string a to string b\n",
    "        print('Number of Deletions: ' + str(no_of_deletions))\n",
    "        print('Number of Insertions: ' + str(no_of_insertions))\n",
    "        return \"The strings are {} edits away\".format(distance[row][col])"
   ]
  },
  {
   "cell_type": "code",
   "execution_count": 109,
   "metadata": {},
   "outputs": [
    {
     "name": "stdout",
     "output_type": "stream",
     "text": [
      "Number of Deletions: 2\n",
      "Number of Insertions: 5\n"
     ]
    },
    {
     "data": {
      "text/plain": [
       "'The strings are 5 edits away'"
      ]
     },
     "execution_count": 109,
     "metadata": {},
     "output_type": "execute_result"
    }
   ],
   "source": [
    "levenshtein_ratio_and_distance(reference,hypothesis)"
   ]
  },
  {
   "cell_type": "code",
   "execution_count": null,
   "metadata": {},
   "outputs": [],
   "source": []
  }
 ],
 "metadata": {
  "kernelspec": {
   "display_name": "Python 3",
   "language": "python",
   "name": "python3"
  },
  "language_info": {
   "codemirror_mode": {
    "name": "ipython",
    "version": 3
   },
   "file_extension": ".py",
   "mimetype": "text/x-python",
   "name": "python",
   "nbconvert_exporter": "python",
   "pygments_lexer": "ipython3",
   "version": "3.7.3"
  }
 },
 "nbformat": 4,
 "nbformat_minor": 2
}
